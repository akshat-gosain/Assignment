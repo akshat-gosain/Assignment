{
 "cells": [
  {
   "cell_type": "markdown",
   "metadata": {},
   "source": [
    "student database-\n",
    "\n",
    "* Student id\n",
    "* Gender\n",
    "* Department\n",
    "* Sessional_perc\n",
    "* Final_sem marks\n",
    "* Backlogs"
   ]
  },
  {
   "cell_type": "code",
   "execution_count": 56,
   "metadata": {},
   "outputs": [],
   "source": [
    "student_ids = ['S01','S02','S03','S04','S05']\n",
    "gender = ['M','F','F','M','F']\n",
    "dept = ['CS','ECE','ME','CS','ME']\n",
    "sessional_perc = [45,60,73,65.3,71.9]\n",
    "total_marks = [680, 800, 660,650,780]\n",
    "backlogs = ['NB','B','NB','NB','NB']"
   ]
  },
  {
   "cell_type": "markdown",
   "metadata": {},
   "source": [
    "If student received more than 70%, increase marks by 2%"
   ]
  },
  {
   "cell_type": "code",
   "execution_count": 18,
   "metadata": {},
   "outputs": [
    {
     "data": {
      "text/plain": [
       "[1, 2, 3, 4, 5]"
      ]
     },
     "execution_count": 18,
     "metadata": {},
     "output_type": "execute_result"
    }
   ],
   "source": [
    "list(range(1,6))"
   ]
  },
  {
   "cell_type": "code",
   "execution_count": 19,
   "metadata": {},
   "outputs": [
    {
     "data": {
      "text/plain": [
       "[0, 1, 2, 3, 4]"
      ]
     },
     "execution_count": 19,
     "metadata": {},
     "output_type": "execute_result"
    }
   ],
   "source": [
    "list(range(5))"
   ]
  },
  {
   "cell_type": "code",
   "execution_count": 15,
   "metadata": {},
   "outputs": [
    {
     "data": {
      "text/plain": [
       "[0, 1, 2, 3, 4]"
      ]
     },
     "execution_count": 15,
     "metadata": {},
     "output_type": "execute_result"
    }
   ],
   "source": [
    "list(range(len(student_ids)))"
   ]
  },
  {
   "cell_type": "code",
   "execution_count": 13,
   "metadata": {},
   "outputs": [
    {
     "data": {
      "text/plain": [
       "60"
      ]
     },
     "execution_count": 13,
     "metadata": {},
     "output_type": "execute_result"
    }
   ],
   "source": [
    "sessional_perc[1]"
   ]
  },
  {
   "cell_type": "code",
   "execution_count": 22,
   "metadata": {},
   "outputs": [
    {
     "name": "stdout",
     "output_type": "stream",
     "text": [
      "Marks did not change\n",
      "Marks did not change\n",
      "Marks increased by 2%\n",
      "Marks did not change\n",
      "Marks increased by 2%\n"
     ]
    }
   ],
   "source": [
    "for i in range(len(student_ids)):\n",
    "    if sessional_perc[i]>70:\n",
    "        total_marks[i]=total_marks[i]*1.02\n",
    "        print('Marks increased by 2%')\n",
    "    else:\n",
    "        print('Marks did not change')"
   ]
  },
  {
   "cell_type": "markdown",
   "metadata": {},
   "source": [
    "S01 and S04 have got backlogs & we need to update them"
   ]
  },
  {
   "cell_type": "code",
   "execution_count": 57,
   "metadata": {},
   "outputs": [],
   "source": [
    "updated_students = ['S01','S04']\n",
    "\n",
    "for i in range(len(student_ids)):\n",
    "    if student_ids[i] in updated_students:\n",
    "        backlogs[i] = 'B'"
   ]
  },
  {
   "cell_type": "code",
   "execution_count": 58,
   "metadata": {},
   "outputs": [
    {
     "data": {
      "text/plain": [
       "['B', 'B', 'NB', 'B', 'NB']"
      ]
     },
     "execution_count": 58,
     "metadata": {},
     "output_type": "execute_result"
    }
   ],
   "source": [
    "backlogs"
   ]
  },
  {
   "cell_type": "code",
   "execution_count": 59,
   "metadata": {},
   "outputs": [],
   "source": [
    "dept[4]='CS'"
   ]
  },
  {
   "cell_type": "markdown",
   "metadata": {},
   "source": [
    "If a student's total marks is greater than 750 and they have no backlogs, and they're from CS dept, they will receive a 'High Achievers Scholarship'.\n",
    "\n",
    "If a student has no backlog and marks between 650 and 700, they will receive 'Achiever Scholarship'"
   ]
  },
  {
   "cell_type": "code",
   "execution_count": 35,
   "metadata": {},
   "outputs": [],
   "source": [
    "scholarships = []\n",
    "\n",
    "for j in range(len(student_ids)):\n",
    "    scholarships.append('No Scholarship')\n"
   ]
  },
  {
   "cell_type": "code",
   "execution_count": 33,
   "metadata": {},
   "outputs": [
    {
     "data": {
      "text/plain": [
       "['No Scholarship',\n",
       " 'No Scholarship',\n",
       " 'No Scholarship',\n",
       " 'No Scholarship',\n",
       " 'No Scholarship']"
      ]
     },
     "execution_count": 33,
     "metadata": {},
     "output_type": "execute_result"
    }
   ],
   "source": [
    "scholarships"
   ]
  },
  {
   "cell_type": "code",
   "execution_count": 61,
   "metadata": {},
   "outputs": [
    {
     "name": "stdout",
     "output_type": "stream",
     "text": [
      "No Scholarships were given to S01\n",
      "No Scholarships were given to S02\n",
      "Achiever Scholarship awarded to S03\n",
      "No Scholarships were given to S04\n",
      "High Achiever Scholarship awarded to S05\n"
     ]
    }
   ],
   "source": [
    "for i in range(len(student_ids)):\n",
    "    if dept[i] == 'CS' and total_marks[i]>750 and backlogs[i] == 'NB':\n",
    "        scholarships[i] = 'High Achiever Scholarship'\n",
    "        print(f\"High Achiever Scholarship awarded to {student_ids[i]}\")\n",
    "\n",
    "    elif backlogs[i] == 'NB' and (650<total_marks[i]<=700):\n",
    "        scholarships[i] = 'Achiever Scholarship'\n",
    "        print(f\"Achiever Scholarship awarded to {student_ids[i]}\")\n",
    "\n",
    "    else:\n",
    "        print(f'No Scholarships were given to {student_ids[i]}')"
   ]
  },
  {
   "cell_type": "code",
   "execution_count": 62,
   "metadata": {},
   "outputs": [
    {
     "name": "stdout",
     "output_type": "stream",
     "text": [
      "15\n"
     ]
    }
   ],
   "source": [
    "sum = 0\n",
    "for i in range(1,6):\n",
    "    sum +=i\n",
    "print(sum)"
   ]
  }
 ],
 "metadata": {
  "kernelspec": {
   "display_name": "Python 3",
   "language": "python",
   "name": "python3"
  },
  "language_info": {
   "codemirror_mode": {
    "name": "ipython",
    "version": 3
   },
   "file_extension": ".py",
   "mimetype": "text/x-python",
   "name": "python",
   "nbconvert_exporter": "python",
   "pygments_lexer": "ipython3",
   "version": "3.10.6"
  },
  "orig_nbformat": 4
 },
 "nbformat": 4,
 "nbformat_minor": 2
}
